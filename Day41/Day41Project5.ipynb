{
 "cells": [
  {
   "cell_type": "code",
   "execution_count": null,
   "id": "57c04683",
   "metadata": {},
   "outputs": [
    {
     "name": "stdout",
     "output_type": "stream",
     "text": [
      "Initial sales data (all ones):\n",
      " [[1 1 1 1 1 1 1]\n",
      " [1 1 1 1 1 1 1]\n",
      " [1 1 1 1 1 1 1]]\n",
      "\n",
      "Randomized sales data:\n",
      " [[20 27 40 43 32 46 31]\n",
      " [25 10 47 26 43 15 31]\n",
      " [15 43 29 35 32 46 44]]\n",
      "\n",
      "Days of the week matrix:\n",
      " [[1 2 3 4 5 6 7]\n",
      " [1 2 3 4 5 6 7]\n",
      " [1 2 3 4 5 6 7]]\n",
      "\n",
      "Sales data flattened with ravel():\n",
      " [20 27 40 43 32 46 31 25 10 47 26 43 15 31 15 43 29 35 32 46 44]\n",
      "\n",
      "Sales data flattened with flatten():\n",
      " [20 27 40 43 32 46 31 25 10 47 26 43 15 31 15 43 29 35 32 46 44]\n",
      "\n",
      "Sales data after boost (clone):\n",
      " [[25 32 45 48 37 51 36]\n",
      " [30 15 52 31 48 20 36]\n",
      " [20 48 34 40 37 51 49]]\n",
      "\n",
      "Sales data for first 3 days:\n",
      " [[20 27 40]\n",
      " [25 10 47]\n",
      " [15 43 29]]\n"
     ]
    }
   ],
   "source": [
    "import numpy as np\n",
    "\n",
    "sales_data = np.ones((3, 7), dtype=int)\n",
    "print(\"Initial sales data (all ones):\\n\", sales_data)\n",
    "\n",
    "# 2. Modify the array with realistic random sales between 10 and 50\n",
    "sales_data = np.random.randint(10, 51, size=(3, 7))\n",
    "print(\"\\nRandomized sales data:\\n\", sales_data)\n",
    "\n",
    "# 3. Generate array of days (1 to 7) and reshape into 3x7\n",
    "days_of_week = np.arange(1, 8)  # 1D array [1 2 3 4 5 6 7]\n",
    "days_matrix = np.tile(days_of_week, (3, 1))  # replicate for 3 products\n",
    "print(\"\\nDays of the week matrix:\\n\", days_matrix)\n",
    "\n",
    "# 4. Flatten the sales data using ravel() and flatten()\n",
    "flattened_ravel = sales_data.ravel()\n",
    "flattened_flatten = sales_data.flatten()\n",
    "print(\"\\nSales data flattened with ravel():\\n\", flattened_ravel)\n",
    "print(\"\\nSales data flattened with flatten():\\n\", flattened_flatten)\n",
    "\n",
    "# 5. Clone sales data and simulate discount/boost\n",
    "sales_clone = sales_data.copy()\n",
    "sales_clone = sales_clone + 5  # boost sales by 5 units\n",
    "print(\"\\nSales data after boost (clone):\\n\", sales_clone)\n",
    "\n",
    "# 6. Slice the first 3 days of sales for all products (first 3 columns)\n",
    "first_3_days_sales = sales_data[:, :3]\n",
    "print(\"\\nSales data for first 3 days:\\n\", first_3_days_sales)\n"
   ]
  }
 ],
 "metadata": {
  "kernelspec": {
   "display_name": "Python 3",
   "language": "python",
   "name": "python3"
  },
  "language_info": {
   "codemirror_mode": {
    "name": "ipython",
    "version": 3
   },
   "file_extension": ".py",
   "mimetype": "text/x-python",
   "name": "python",
   "nbconvert_exporter": "python",
   "pygments_lexer": "ipython3",
   "version": "3.13.5"
  }
 },
 "nbformat": 4,
 "nbformat_minor": 5
}
