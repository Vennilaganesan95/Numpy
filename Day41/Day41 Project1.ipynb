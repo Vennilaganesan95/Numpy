{
 "cells": [
  {
   "cell_type": "code",
   "execution_count": null,
   "id": "1faeae02",
   "metadata": {},
   "outputs": [
    {
     "name": "stdout",
     "output_type": "stream",
     "text": [
      "[[ 58 188 139  84]\n",
      " [171 156  51 154]\n",
      " [ 73 134 164 104]]\n",
      "Original Sales Data:\n",
      " [[ 58 188 139  84]\n",
      " [171 156  51 154]\n",
      " [ 73 134 164 104]]\n",
      "Modified Sales Data Copy:\n",
      " [[999 188 139  84]\n",
      " [171 156  51 154]\n",
      " [ 73 134 164 104]]\n",
      "[[ 58 188 139]]\n"
     ]
    }
   ],
   "source": [
    "import numpy as np\n",
    "sales_data = np.zeros((3, 4), dtype=int)\n",
    "\n",
    "sales_data = np.full((3, 4), [100, 150, 200, 250], dtype=int)\n",
    "\n",
    "\n",
    "reshaped_sales_data = sales_data.reshape(4, 3) \n",
    "\n",
    "\n",
    "random_sales_data = np.random.randint(50, 200, size=(3, 4)) \n",
    "print(random_sales_data)\n",
    "\n",
    "sales_data_copy = random_sales_data.copy() \n",
    "sales_data_copy[0, 0] = 999 \n",
    "print(\"Original Sales Data:\\n\", random_sales_data) \n",
    "print(\"Modified Sales Data Copy:\\n\", sales_data_copy)\n",
    "\n",
    "sliced_data = random_sales_data[:1, :3] \n",
    "print(sliced_data)"
   ]
  }
 ],
 "metadata": {
  "kernelspec": {
   "display_name": "Python 3",
   "language": "python",
   "name": "python3"
  },
  "language_info": {
   "codemirror_mode": {
    "name": "ipython",
    "version": 3
   },
   "file_extension": ".py",
   "mimetype": "text/x-python",
   "name": "python",
   "nbconvert_exporter": "python",
   "pygments_lexer": "ipython3",
   "version": "3.13.5"
  }
 },
 "nbformat": 4,
 "nbformat_minor": 5
}
