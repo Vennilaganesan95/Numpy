{
 "cells": [
  {
   "cell_type": "code",
   "execution_count": 1,
   "id": "253b61d7",
   "metadata": {},
   "outputs": [
    {
     "name": "stdout",
     "output_type": "stream",
     "text": [
      "[[ 23  25  21  23  23]\n",
      " [ 21  24  21  21  26]\n",
      " [ 24  20  23  24  24]\n",
      " [ 24  26  20  22  26]\n",
      " [ 20  25  22  23  22]\n",
      " [ 26  22  21  22  20]\n",
      " [165 195 114  25  25]\n",
      " [ 25  25  25  25  25]\n",
      " [ 25  25  25  25  25]\n",
      " [ 25  25  25  25  25]\n",
      " [ 25  25  25  25  25]\n",
      " [ 25  25  25  25  25]\n",
      " [ 25  25  25  25  25]\n",
      " [ 25  25  25  25  25]\n",
      " [ 25  25  25  25  25]\n",
      " [ 25  25  25  25  25]\n",
      " [ 25  25  25  25  25]\n",
      " [ 25  25  25  25  25]\n",
      " [ 25  25  25  25  25]\n",
      " [ 25  25  25  25  25]\n",
      " [ 25  25  25  25  25]\n",
      " [ 25  25  25  25  25]\n",
      " [ 25  25  25  25  25]\n",
      " [ 25  25  25  25  25]\n",
      " [ 25  25  25  25  25]\n",
      " [ 25  25  25  25  25]\n",
      " [ 25  25  25  25  25]\n",
      " [ 25  25  25  25  25]\n",
      " [ 25  25  25  25  25]\n",
      " [ 25  25  25  25  25]]\n",
      "[[24 20 23 24 24]\n",
      " [24 26 20 22 26]\n",
      " [20 25 22 23 22]\n",
      " [26 22 21 22 20]]\n"
     ]
    }
   ],
   "source": [
    "import numpy as np\n",
    "\n",
    "temperature_data = np.ones((5, 30), dtype=int) * 23\n",
    "\n",
    "\n",
    "temperature_data = np.full((5, 30), 25)\n",
    "temperature_data[0] = np.random.randint(20, 27, size=30) \n",
    "temperature_data[1,:3] = np.random.randint(100, 200, size=3)\n",
    "\n",
    "\n",
    "reshape_temparature_data = temperature_data.reshape(30, 5)\n",
    "print(reshape_temparature_data)\n",
    "\n",
    "slicing = reshape_temparature_data[2:6 , :] \n",
    "print(slicing)"
   ]
  }
 ],
 "metadata": {
  "kernelspec": {
   "display_name": "Python 3",
   "language": "python",
   "name": "python3"
  },
  "language_info": {
   "codemirror_mode": {
    "name": "ipython",
    "version": 3
   },
   "file_extension": ".py",
   "mimetype": "text/x-python",
   "name": "python",
   "nbconvert_exporter": "python",
   "pygments_lexer": "ipython3",
   "version": "3.13.5"
  }
 },
 "nbformat": 4,
 "nbformat_minor": 5
}
