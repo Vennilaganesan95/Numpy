{
 "cells": [
  {
   "cell_type": "code",
   "execution_count": null,
   "id": "8d9a4ccb",
   "metadata": {},
   "outputs": [
    {
     "name": "stdout",
     "output_type": "stream",
     "text": [
      "Initial grades (all zeros):\n",
      " [[0 0 0 0]\n",
      " [0 0 0 0]\n",
      " [0 0 0 0]\n",
      " [0 0 0 0]\n",
      " [0 0 0 0]]\n",
      "\n",
      "Random student grades:\n",
      " [[ 68  53  84  74]\n",
      " [ 84  76  57  65]\n",
      " [ 97  71  97  63]\n",
      " [ 54  73  99  89]\n",
      " [ 86  80  62 100]]\n",
      "\n",
      "Maximum grades per subject:\n",
      " [[100 100 100 100]]\n",
      "\n",
      "Grades reshaped for 2 semesters:\n",
      " [[[ 68  53]\n",
      "  [ 84  74]]\n",
      "\n",
      " [[ 84  76]\n",
      "  [ 57  65]]\n",
      "\n",
      " [[ 97  71]\n",
      "  [ 97  63]]\n",
      "\n",
      " [[ 54  73]\n",
      "  [ 99  89]]\n",
      "\n",
      " [[ 86  80]\n",
      "  [ 62 100]]]\n",
      "\n",
      "Improved grades:\n",
      " [[ 73  58  89  79]\n",
      " [ 89  81  62  70]\n",
      " [102  76 102  68]\n",
      " [ 59  78 104  94]\n",
      " [ 91  85  67 105]]\n",
      "\n",
      "Grades of second student:\n",
      " [84 76 57 65]\n",
      "\n",
      "Grades of third subject for all students:\n",
      " [84 57 97 99 62]\n"
     ]
    }
   ],
   "source": [
    "import numpy as np\n",
    "\n",
    "grades = np.zeros((5, 4), dtype=int)\n",
    "print(\"Initial grades (all zeros):\\n\", grades)\n",
    "\n",
    "grades = np.random.randint(50, 101, size=(5, 4))\n",
    "print(\"\\nRandom student grades:\\n\", grades)\n",
    "\n",
    "max_grades = np.full((1, 4), 100)  \n",
    "print(\"\\nMaximum grades per subject:\\n\", max_grades)\n",
    "\n",
    "\n",
    "grades_reshaped = grades.reshape(5, 2, 2)  # 5 students, 2 semesters, 2 subjects per semester\n",
    "print(\"\\nGrades reshaped for 2 semesters:\\n\", grades_reshaped)\n",
    "\n",
    "improved_grades = grades.copy()\n",
    "improved_grades += 5  # add 5 points to all grades\n",
    "print(\"\\nImproved grades:\\n\", improved_grades)\n",
    "\n",
    "second_student_grades = grades[1, :]\n",
    "print(\"\\nGrades of second student:\\n\", second_student_grades)\n",
    "\n",
    "third_subject_grades = grades[:, 2]\n",
    "print(\"\\nGrades of third subject for all students:\\n\", third_subject_grades)\n"
   ]
  }
 ],
 "metadata": {
  "kernelspec": {
   "display_name": "Python 3",
   "language": "python",
   "name": "python3"
  },
  "language_info": {
   "codemirror_mode": {
    "name": "ipython",
    "version": 3
   },
   "file_extension": ".py",
   "mimetype": "text/x-python",
   "name": "python",
   "nbconvert_exporter": "python",
   "pygments_lexer": "ipython3",
   "version": "3.13.5"
  }
 },
 "nbformat": 4,
 "nbformat_minor": 5
}
