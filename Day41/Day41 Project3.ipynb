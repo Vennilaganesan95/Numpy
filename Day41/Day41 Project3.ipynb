{
 "cells": [
  {
   "cell_type": "code",
   "execution_count": 4,
   "id": "fbf0702c",
   "metadata": {},
   "outputs": [
    {
     "name": "stdout",
     "output_type": "stream",
     "text": [
      "[[0. 0. 0.]\n",
      " [0. 0. 0.]\n",
      " [0. 0. 0.]]\n"
     ]
    }
   ],
   "source": [
    "import numpy as np\n",
    "arr=np.zeros((3,3))\n",
    "print(arr)"
   ]
  },
  {
   "cell_type": "code",
   "execution_count": null,
   "id": "ce49e12b",
   "metadata": {},
   "outputs": [
    {
     "name": "stdout",
     "output_type": "stream",
     "text": [
      "[[1. 1. 1. 1. 1.]\n",
      " [1. 1. 1. 1. 1.]\n",
      " [1. 1. 1. 1. 1.]\n",
      " [1. 1. 1. 1. 1.]\n",
      " [1. 1. 1. 1. 1.]]\n"
     ]
    }
   ],
   "source": [
    "arr=np.ones((5,5),dtype=float)\n",
    "print(arr)"
   ]
  },
  {
   "cell_type": "code",
   "execution_count": null,
   "id": "2a61e1ce",
   "metadata": {},
   "outputs": [
    {
     "name": "stdout",
     "output_type": "stream",
     "text": [
      "[[7 7 7 7]\n",
      " [7 7 7 7]\n",
      " [7 7 7 7]\n",
      " [7 7 7 7]]\n"
     ]
    }
   ],
   "source": [
    "arr=np.full((4,4),7)\n",
    "print(arr)"
   ]
  },
  {
   "cell_type": "code",
   "execution_count": null,
   "id": "1480234f",
   "metadata": {},
   "outputs": [
    {
     "name": "stdout",
     "output_type": "stream",
     "text": [
      "[[0 0 1 0]\n",
      " [0 0 0 1]\n",
      " [0 0 0 0]\n",
      " [0 0 0 0]]\n"
     ]
    }
   ],
   "source": [
    "arr=np.eye(4,k=2,dtype=int)\n",
    "print(arr)"
   ]
  },
  {
   "cell_type": "code",
   "execution_count": null,
   "id": "89062cc6",
   "metadata": {},
   "outputs": [],
   "source": [
    "import numpy as np\n",
    "arange=np.arange(10,50,5)\n",
    "print(arange)\n",
    "\n",
    "arr = np.linspace(0, 1, 100)\n",
    "print(arr)\n"
   ]
  },
  {
   "cell_type": "code",
   "execution_count": null,
   "id": "478ad1a1",
   "metadata": {},
   "outputs": [],
   "source": [
    "random=np.random.rand(10,20)\n",
    "print(random)\n",
    "\n",
    "random_normal= np.random.randn(3, 3)\n",
    "print(random_normal)\n",
    "\n"
   ]
  },
  {
   "cell_type": "code",
   "execution_count": null,
   "id": "812e1a53",
   "metadata": {},
   "outputs": [],
   "source": [
    "random_integers = np.random.randint(10, 50, size=(3, 3))\n",
    "print(random_integers)\n",
    "\n",
    "arr = np.arange(1, 13)  \n",
    "print(\"\\nOriginal 1D array:\")\n",
    "print(arr)\n",
    "\n",
    "reshaped_matrix = arr.reshape(3, 4)\n",
    "print(\"\\nReshaped 3x4 matrix:\")\n",
    "print(reshaped_matrix)\n",
    "\n"
   ]
  },
  {
   "cell_type": "code",
   "execution_count": 42,
   "id": "11890331",
   "metadata": {},
   "outputs": [
    {
     "name": "stdout",
     "output_type": "stream",
     "text": [
      "Flattened using ravel(): [1 2 3 4 5 6 7 8 9]\n",
      "Flattened using flatten(): [1 2 3 4 5 6 7 8 9]\n"
     ]
    }
   ],
   "source": [
    "\n",
    "\n",
    "matrix = np.array([[1, 2, 3],\n",
    "                   [4, 5, 6],\n",
    "                   [7, 8, 9]])\n",
    "\n",
    "# Using ravel()\n",
    "flattened_ravel = matrix.ravel()\n",
    "print(\"Flattened using ravel():\", flattened_ravel)\n",
    "\n",
    "# Using flatten()\n",
    "flattened_flatten = matrix.flatten()\n",
    "print(\"Flattened using flatten():\", flattened_flatten)\n"
   ]
  },
  {
   "cell_type": "code",
   "execution_count": 44,
   "id": "1e79bca7",
   "metadata": {},
   "outputs": [
    {
     "name": "stdout",
     "output_type": "stream",
     "text": [
      "Original array: [100   2   3]\n",
      "Cloned array:   [1 2 3]\n",
      "Second row: [4 5 6]\n"
     ]
    }
   ],
   "source": [
    "original = np.array([1, 2, 3])\n",
    "cloned = original.copy()\n",
    "\n",
    "# Modify original\n",
    "original[0] = 100\n",
    "\n",
    "print(\"Original array:\", original)\n",
    "print(\"Cloned array:  \", cloned)\n",
    "\n",
    "matrix = np.array([[1, 2, 3],\n",
    "                   [4, 5, 6],\n",
    "                   [7, 8, 9]])\n",
    "\n",
    "second_row = matrix[1, :]  \n",
    "print(\"Second row:\", second_row)\n"
   ]
  }
 ],
 "metadata": {
  "kernelspec": {
   "display_name": "Python 3",
   "language": "python",
   "name": "python3"
  },
  "language_info": {
   "codemirror_mode": {
    "name": "ipython",
    "version": 3
   },
   "file_extension": ".py",
   "mimetype": "text/x-python",
   "name": "python",
   "nbconvert_exporter": "python",
   "pygments_lexer": "ipython3",
   "version": "3.13.5"
  }
 },
 "nbformat": 4,
 "nbformat_minor": 5
}
