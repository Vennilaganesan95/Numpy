{
 "cells": [
  {
   "cell_type": "code",
   "execution_count": 5,
   "id": "ea234952",
   "metadata": {},
   "outputs": [
    {
     "name": "stdout",
     "output_type": "stream",
     "text": [
      "New Product Prices: [179 349 109 189 269 399 139 219 299 159]\n",
      "Selected Product Prices: [349 189 219]\n",
      "Cheap Products (below $200): [179 109 189 139 159]\n",
      "Product Price Categories: ['Mid-range' 'Premium' 'Budget' 'Mid-range' 'Premium' 'Premium' 'Budget'\n",
      " 'Mid-range' 'Premium' 'Mid-range']\n",
      "Any Premium Products: True\n",
      "All products under $500: True\n",
      "Sorted Product Prices: [109 139 159 179 189 219 269 299 349 399]\n",
      "Sorted Indices of Products: [2 6 9 0 3 7 4 8 1 5]\n",
      "Unique Product Prices: [109 139 159 179 189 219 269 299 349 399]\n"
     ]
    }
   ],
   "source": [
    "import numpy as np\n",
    "\n",
    "# New product prices in USD\n",
    "prices = np.array([179, 349, 109, 189, 269, 399, 139, 219, 299, 159])\n",
    "\n",
    "print(\"New Product Prices:\", prices)\n",
    "\n",
    "product_indices = [1, 3, 7] \n",
    "selected_prices = prices[product_indices] \n",
    "print(\"Selected Product Prices:\", selected_prices)\n",
    "\n",
    "cheap_mask = prices < 200 \n",
    "cheap_products = prices[cheap_mask] \n",
    "print(\"Cheap Products (below $200):\", cheap_products)\n",
    "\n",
    "conditions = [prices < 150, (prices >= 150) & (prices <= 250), prices > 250] \n",
    "choices = ['Budget', 'Mid-range', 'Premium'] \n",
    "price_category = np.select(conditions, choices, default=\"Unknown\") \n",
    "print(\"Product Price Categories:\", price_category)\n",
    "\n",
    "any_premium = np.any(prices > 250) \n",
    "all_under_500 = np.all(prices < 500) \n",
    "print(\"Any Premium Products:\", any_premium) \n",
    "print(\"All products under $500:\", all_under_500)\n",
    "\n",
    "sorted_prices = np.sort(prices) \n",
    "print(\"Sorted Product Prices:\", sorted_prices)\n",
    "\n",
    "sorted_indices = np.argsort(prices) \n",
    "print(\"Sorted Indices of Products:\", sorted_indices)\n",
    "\n",
    "unique_prices = np.unique(prices) \n",
    "print(\"Unique Product Prices:\", unique_prices)\n",
    "\n"
   ]
  }
 ],
 "metadata": {
  "kernelspec": {
   "display_name": "Python 3",
   "language": "python",
   "name": "python3"
  },
  "language_info": {
   "codemirror_mode": {
    "name": "ipython",
    "version": 3
   },
   "file_extension": ".py",
   "mimetype": "text/x-python",
   "name": "python",
   "nbconvert_exporter": "python",
   "pygments_lexer": "ipython3",
   "version": "3.13.5"
  }
 },
 "nbformat": 4,
 "nbformat_minor": 5
}
