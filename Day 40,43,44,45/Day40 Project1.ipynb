{
 "cells": [
  {
   "cell_type": "code",
   "execution_count": 1,
   "id": "95e4b653",
   "metadata": {},
   "outputs": [
    {
     "name": "stdout",
     "output_type": "stream",
     "text": [
      "1D array:\n",
      " [36 16 29 40 27 23 86 45 29  9 33 30]\n",
      "\n",
      "2D array (4x3 matrix):\n",
      " [[36 16 29]\n",
      " [40 27 23]\n",
      " [86 45 29]\n",
      " [ 9 33 30]]\n",
      "\n",
      "Second row:\n",
      " [40 27 23]\n",
      "\n",
      "First column:\n",
      " [36 40 86  9]\n",
      "\n",
      "Last two elements from last row:\n",
      " [33 30]\n",
      "\n",
      "Array shape: (4, 3)\n",
      "Array size: 12\n",
      "Array data type: int32\n"
     ]
    }
   ],
   "source": [
    "import numpy as np\n",
    "\n",
    "arr_1d = np.random.randint(1, 101, size=12)\n",
    "print(\"1D array:\\n\", arr_1d)\n",
    "\n",
    "arr_2d = arr_1d.reshape(4, 3)\n",
    "print(\"\\n2D array (4x3 matrix):\\n\", arr_2d)\n",
    "\n",
    "second_row = arr_2d[1, :]\n",
    "print(\"\\nSecond row:\\n\", second_row)\n",
    "\n",
    "first_column = arr_2d[:, 0]\n",
    "print(\"\\nFirst column:\\n\", first_column)\n",
    "\n",
    "\n",
    "last_two_last_row = arr_2d[-1, -2:]\n",
    "print(\"\\nLast two elements from last row:\\n\", last_two_last_row)\n",
    "\n",
    "\n",
    "print(\"\\nArray shape:\", arr_2d.shape)\n",
    "print(\"Array size:\", arr_2d.size)\n",
    "print(\"Array data type:\", arr_2d.dtype)\n"
   ]
  }
 ],
 "metadata": {
  "kernelspec": {
   "display_name": "Python 3",
   "language": "python",
   "name": "python3"
  },
  "language_info": {
   "codemirror_mode": {
    "name": "ipython",
    "version": 3
   },
   "file_extension": ".py",
   "mimetype": "text/x-python",
   "name": "python",
   "nbconvert_exporter": "python",
   "pygments_lexer": "ipython3",
   "version": "3.13.5"
  }
 },
 "nbformat": 4,
 "nbformat_minor": 5
}
