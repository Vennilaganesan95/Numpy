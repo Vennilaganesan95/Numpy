{
 "cells": [
  {
   "cell_type": "code",
   "execution_count": 1,
   "id": "6dc3bab9",
   "metadata": {},
   "outputs": [
    {
     "name": "stdout",
     "output_type": "stream",
     "text": [
      "Data array:\n",
      " [12 45 23 67 34 89 54 31 76 28]\n",
      "\n",
      "Mean: 45.9\n",
      "Median: 39.5\n",
      "Standard Deviation: 23.733731270072138\n",
      "Minimum value: 12\n",
      "Maximum value: 89\n",
      "\n",
      "First five elements: [12 45 23 67 34]\n",
      "Average of first five elements: 36.2\n"
     ]
    }
   ],
   "source": [
    "import numpy as np\n",
    "\n",
    "data = np.array([12, 45, 23, 67, 34, 89, 54, 31, 76, 28])\n",
    "print(\"Data array:\\n\", data)\n",
    "\n",
    "mean_val = np.mean(data)\n",
    "print(\"\\nMean:\", mean_val)\n",
    "\n",
    "median_val = np.median(data)\n",
    "print(\"Median:\", median_val)\n",
    "\n",
    "\n",
    "std_val = np.std(data)\n",
    "print(\"Standard Deviation:\", std_val)\n",
    "\n",
    "\n",
    "min_val = np.min(data)\n",
    "max_val = np.max(data)\n",
    "print(\"Minimum value:\", min_val)\n",
    "print(\"Maximum value:\", max_val)\n",
    "\n",
    "\n",
    "first_five = data[:5]\n",
    "average_first_five = np.mean(first_five)\n",
    "print(\"\\nFirst five elements:\", first_five)\n",
    "print(\"Average of first five elements:\", average_first_five)\n"
   ]
  }
 ],
 "metadata": {
  "kernelspec": {
   "display_name": "Python 3",
   "language": "python",
   "name": "python3"
  },
  "language_info": {
   "codemirror_mode": {
    "name": "ipython",
    "version": 3
   },
   "file_extension": ".py",
   "mimetype": "text/x-python",
   "name": "python",
   "nbconvert_exporter": "python",
   "pygments_lexer": "ipython3",
   "version": "3.13.5"
  }
 },
 "nbformat": 4,
 "nbformat_minor": 5
}
