{
 "cells": [
  {
   "cell_type": "code",
   "execution_count": 1,
   "id": "e0078cd7",
   "metadata": {},
   "outputs": [
    {
     "name": "stdout",
     "output_type": "stream",
     "text": [
      "Daily Temperatures:\n",
      " [ 4.62706361e+00  1.59007658e+01  1.59313959e+01  9.39280601e+00\n",
      "  4.96116247e+00  2.17011638e+01  2.38143244e+01  3.78945870e+01\n",
      "  1.37996358e+01  2.22133518e+01  5.22085992e+00  3.58580368e+01\n",
      "  3.85146443e+01 -3.74797430e+00  7.56655094e+00  2.82886194e+01\n",
      "  1.24261786e+01  1.30335728e+01 -2.97783010e+00  2.89580740e+01\n",
      "  2.69060127e-01  3.83514960e+01  2.44002387e+01 -1.73501555e+00\n",
      "  5.44883974e-03  3.45635361e-01  3.47507867e+01  8.85220528e+00\n",
      "  1.78261702e+01  2.79790169e+01]\n",
      "Frosty Days (<0°C): [-3.7479743  -2.9778301  -1.73501555]\n",
      "Temperature Categories:\n",
      " ['Cold' 'Moderate' 'Moderate' 'Cold' 'Cold' 'Moderate' 'Moderate' 'Hot'\n",
      " 'Moderate' 'Moderate' 'Cold' 'Hot' 'Hot' 'Cold' 'Cold' 'Hot' 'Moderate'\n",
      " 'Moderate' 'Cold' 'Hot' 'Cold' 'Hot' 'Moderate' 'Cold' 'Cold' 'Cold'\n",
      " 'Hot' 'Cold' 'Moderate' 'Hot']\n",
      "Highest Temperature: 38.514644282348826°C at day 13\n",
      "Lowest Temperature: -3.7479742976167345°C at day 14\n",
      "Sorted Temperatures:\n",
      " [-3.74797430e+00 -2.97783010e+00 -1.73501555e+00  5.44883974e-03\n",
      "  2.69060127e-01  3.45635361e-01  4.62706361e+00  4.96116247e+00\n",
      "  5.22085992e+00  7.56655094e+00  8.85220528e+00  9.39280601e+00\n",
      "  1.24261786e+01  1.30335728e+01  1.37996358e+01  1.59007658e+01\n",
      "  1.59313959e+01  1.78261702e+01  2.17011638e+01  2.22133518e+01\n",
      "  2.38143244e+01  2.44002387e+01  2.79790169e+01  2.82886194e+01\n",
      "  2.89580740e+01  3.47507867e+01  3.58580368e+01  3.78945870e+01\n",
      "  3.83514960e+01  3.85146443e+01]\n",
      "Any day above 35°C? True\n",
      "Week 1 Temperatures:\n",
      " [ 4.62706361 15.90076581 15.93139592  9.39280601  4.96116247 21.70116384\n",
      " 23.8143244 ]\n",
      "Index to insert 15°C: 15\n",
      "Unique Temperatures:\n",
      " [-3.74797430e+00 -2.97783010e+00 -1.73501555e+00  5.44883974e-03\n",
      "  2.69060127e-01  3.45635361e-01  4.62706361e+00  4.96116247e+00\n",
      "  5.22085992e+00  7.56655094e+00  8.85220528e+00  9.39280601e+00\n",
      "  1.24261786e+01  1.30335728e+01  1.37996358e+01  1.59007658e+01\n",
      "  1.59313959e+01  1.78261702e+01  2.17011638e+01  2.22133518e+01\n",
      "  2.38143244e+01  2.44002387e+01  2.79790169e+01  2.82886194e+01\n",
      "  2.89580740e+01  3.47507867e+01  3.58580368e+01  3.78945870e+01\n",
      "  3.83514960e+01  3.85146443e+01]\n",
      "Number of distinct temperatures: 30\n"
     ]
    }
   ],
   "source": [
    "import numpy as np\n",
    "\n",
    "temperatures = np.random.uniform(-5, 40, 30)\n",
    "print(\"Daily Temperatures:\\n\", temperatures)\n",
    "\n",
    "frosty_days = temperatures[temperatures < 0]\n",
    "print(\"Frosty Days (<0°C):\", frosty_days)\n",
    "\n",
    "categories = np.where(temperatures < 10, \"Cold\",\n",
    "             np.where(temperatures <= 25, \"Moderate\", \"Hot\"))\n",
    "\n",
    "print(\"Temperature Categories:\\n\", categories)\n",
    "\n",
    "max_index = np.argmax(temperatures)\n",
    "min_index = np.argmin(temperatures)\n",
    "\n",
    "print(f\"Highest Temperature: {temperatures[max_index]}°C at day {max_index+1}\")\n",
    "print(f\"Lowest Temperature: {temperatures[min_index]}°C at day {min_index+1}\")\n",
    "\n",
    "sorted_temps = np.sort(temperatures)\n",
    "print(\"Sorted Temperatures:\\n\", sorted_temps)\n",
    "\n",
    "any_hot_day = np.any(temperatures > 35)\n",
    "print(\"Any day above 35°C?\", any_hot_day)\n",
    "\n",
    "week1 = temperatures[:7]\n",
    "print(\"Week 1 Temperatures:\\n\", week1)\n",
    "\n",
    "\n",
    "insert_index = np.searchsorted(sorted_temps, 15)\n",
    "print(\"Index to insert 15°C:\", insert_index)\n",
    "\n",
    "unique_temps = np.unique(temperatures)\n",
    "print(\"Unique Temperatures:\\n\", unique_temps)\n",
    "print(\"Number of distinct temperatures:\", len(unique_temps))\n"
   ]
  }
 ],
 "metadata": {
  "kernelspec": {
   "display_name": "Python 3",
   "language": "python",
   "name": "python3"
  },
  "language_info": {
   "codemirror_mode": {
    "name": "ipython",
    "version": 3
   },
   "file_extension": ".py",
   "mimetype": "text/x-python",
   "name": "python",
   "nbconvert_exporter": "python",
   "pygments_lexer": "ipython3",
   "version": "3.13.5"
  }
 },
 "nbformat": 4,
 "nbformat_minor": 5
}
