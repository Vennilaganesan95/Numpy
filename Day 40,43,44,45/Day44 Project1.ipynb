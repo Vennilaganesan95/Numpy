{
 "cells": [
  {
   "cell_type": "code",
   "execution_count": null,
   "id": "135f5adb",
   "metadata": {},
   "outputs": [],
   "source": [
    "import numpy as np\n",
    "img1 = np.random.randint(0, 256, (5, 5)) \n",
    "img2 = np.random.randint(0, 256, (5, 5)) \n",
    "print(\"Image 1 (5x5):\\n\", img1) \n",
    "print(\"Image 2 (5x5):\\n\", img2)\n",
    "\n",
    "#  Vertical Stacking\n",
    "v_stack = np.vstack((img1, img2))\n",
    "print(\"\\nVertically Stacked Image:\\n\", v_stack)"
   ]
  },
  {
   "cell_type": "code",
   "execution_count": 12,
   "id": "90e40034",
   "metadata": {},
   "outputs": [
    {
     "name": "stdout",
     "output_type": "stream",
     "text": [
      "\n",
      "Horizontally Stacked Image:\n",
      " [[206 103 127 143 153 102  82 158  30  23]\n",
      " [ 15  88 156 127  33 227  61 117 185 121]\n",
      " [224 102   8 121 162 173   9 145  43 234]\n",
      " [160  37  92 144 220 238 132 219 192 196]\n",
      " [ 78  31  62  13  12 180  30 129  23 137]]\n"
     ]
    }
   ],
   "source": [
    "\n",
    "h_stack = np.hstack((img1, img2))\n",
    "print(\"\\nHorizontally Stacked Image:\\n\", h_stack)"
   ]
  },
  {
   "cell_type": "code",
   "execution_count": 14,
   "id": "52614f27",
   "metadata": {},
   "outputs": [
    {
     "name": "stdout",
     "output_type": "stream",
     "text": [
      "\n",
      "Vertical Split (2 parts):\n",
      "Part 1:\n",
      " [[206 103 127 143 153]\n",
      " [ 15  88 156 127  33]\n",
      " [224 102   8 121 162]\n",
      " [160  37  92 144 220]\n",
      " [ 78  31  62  13  12]]\n",
      "Part 2:\n",
      " [[102  82 158  30  23]\n",
      " [227  61 117 185 121]\n",
      " [173   9 145  43 234]\n",
      " [238 132 219 192 196]\n",
      " [180  30 129  23 137]]\n",
      "\n",
      "Horizontal Split (2 parts):\n",
      "Part 1:\n",
      " [[206 103 127 143 153]\n",
      " [ 15  88 156 127  33]\n",
      " [224 102   8 121 162]\n",
      " [160  37  92 144 220]\n",
      " [ 78  31  62  13  12]]\n",
      "Part 2:\n",
      " [[102  82 158  30  23]\n",
      " [227  61 117 185 121]\n",
      " [173   9 145  43 234]\n",
      " [238 132 219 192 196]\n",
      " [180  30 129  23 137]]\n"
     ]
    }
   ],
   "source": [
    "\n",
    "# Split vertically stacked image into 2 parts (simulating segmentation)\n",
    "v_split = np.split(v_stack, 2)\n",
    "print(\"\\nVertical Split (2 parts):\")\n",
    "for i, part in enumerate(v_split, 1):\n",
    "    print(f\"Part {i}:\\n\", part)\n",
    "\n",
    "h_split = np.split(h_stack, 2, axis=1)\n",
    "print(\"\\nHorizontal Split (2 parts):\")\n",
    "for i, part in enumerate(h_split, 1):\n",
    "    print(f\"Part {i}:\\n\", part)"
   ]
  }
 ],
 "metadata": {
  "kernelspec": {
   "display_name": "Python 3",
   "language": "python",
   "name": "python3"
  },
  "language_info": {
   "codemirror_mode": {
    "name": "ipython",
    "version": 3
   },
   "file_extension": ".py",
   "mimetype": "text/x-python",
   "name": "python",
   "nbconvert_exporter": "python",
   "pygments_lexer": "ipython3",
   "version": "3.13.5"
  }
 },
 "nbformat": 4,
 "nbformat_minor": 5
}
