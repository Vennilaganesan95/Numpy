{
 "cells": [
  {
   "cell_type": "code",
   "execution_count": 2,
   "id": "6f36764e",
   "metadata": {},
   "outputs": [
    {
     "name": "stdout",
     "output_type": "stream",
     "text": [
      "Solution (x, y): [1. 2.]\n"
     ]
    }
   ],
   "source": [
    "import numpy as np\n",
    "# Step 2: Define the System of Linear Equations\n",
    "A = np.array([[2, 3],\n",
    "              [5, 7]])   # Coefficient matrix\n",
    "b = np.array([8, 19])    # Constants vector\n",
    "\n",
    "# Step 3: Solve Linear Equations\n",
    "X = np.linalg.solve(A, b)\n",
    "\n",
    "print(\"Solution (x, y):\", X)\n",
    "\n",
    "\n"
   ]
  },
  {
   "cell_type": "code",
   "execution_count": 4,
   "id": "24994a74",
   "metadata": {},
   "outputs": [
    {
     "name": "stdout",
     "output_type": "stream",
     "text": [
      "Matrix Multiplication using np.dot():\n",
      " [[11 16]\n",
      " [26 38]]\n",
      "Matrix Multiplication using np.matmul():\n",
      " [[11 16]\n",
      " [26 38]]\n",
      "Inverse of Matrix A:\n",
      " [[-7.  3.]\n",
      " [ 5. -2.]]\n",
      "Determinant of Matrix A: -0.9999999999999987\n"
     ]
    }
   ],
   "source": [
    "# Step 4: Matrix Operations\n",
    "\n",
    "# Define another matrix B for multiplication\n",
    "B = np.array([[1, 2],\n",
    "              [3, 4]])\n",
    "\n",
    "# Matrix Multiplication using np.dot()\n",
    "result_dot = np.dot(A, B)\n",
    "print(\"Matrix Multiplication using np.dot():\\n\", result_dot)\n",
    "\n",
    "# Matrix Multiplication using np.matmul()\n",
    "result_matmul = np.matmul(A, B)\n",
    "print(\"Matrix Multiplication using np.matmul():\\n\", result_matmul)\n",
    "\n",
    "# Inverse of Matrix A\n",
    "A_inv = np.linalg.inv(A)\n",
    "print(\"Inverse of Matrix A:\\n\", A_inv)\n",
    "\n",
    "# Determinant of Matrix A\n",
    "A_det = np.linalg.det(A)\n",
    "print(\"Determinant of Matrix A:\", A_det)"
   ]
  },
  {
   "cell_type": "code",
   "execution_count": 5,
   "id": "d56343aa",
   "metadata": {},
   "outputs": [
    {
     "name": "stdout",
     "output_type": "stream",
     "text": [
      "Matrix A:\n",
      " [[2 3]\n",
      " [5 7]]\n",
      "\n",
      "Eigenvalues:\n",
      " [-0.10977223  9.10977223]\n",
      "\n",
      "Eigenvectors (columns correspond to eigenvalues):\n",
      " [[-0.81797819 -0.38876264]\n",
      " [ 0.57524923 -0.92133794]]\n",
      "\n",
      "Check for eigenvalue -0.1098:\n",
      "A @ v = [ 0.08979129 -0.06314639]\n",
      "λ * v = [ 0.08979129 -0.06314639]\n",
      "\n",
      "Check for eigenvalue 9.1098:\n",
      "A @ v = [-3.54153912 -8.39317882]\n",
      "λ * v = [-3.54153912 -8.39317882]\n"
     ]
    }
   ],
   "source": [
    "# Define a matrix A (3x3 example)\n",
    "\n",
    "\n",
    "print(\"Matrix A:\\n\", A)\n",
    "\n",
    "# Step 5: Eigenvalues and Eigenvectors\n",
    "eigenvalues, eigenvectors = np.linalg.eig(A)\n",
    "\n",
    "print(\"\\nEigenvalues:\\n\", eigenvalues)\n",
    "print(\"\\nEigenvectors (columns correspond to eigenvalues):\\n\", eigenvectors)\n",
    "\n",
    "# Verification: A @ v = λ * v\n",
    "for i in range(len(eigenvalues)):\n",
    "    left = A @ eigenvectors[:, i]\n",
    "    right = eigenvalues[i] * eigenvectors[:, i]\n",
    "    print(f\"\\nCheck for eigenvalue {eigenvalues[i]:.4f}:\")\n",
    "    print(\"A @ v =\", left)\n",
    "    print(\"λ * v =\", right)\n"
   ]
  }
 ],
 "metadata": {
  "kernelspec": {
   "display_name": "Python 3",
   "language": "python",
   "name": "python3"
  },
  "language_info": {
   "codemirror_mode": {
    "name": "ipython",
    "version": 3
   },
   "file_extension": ".py",
   "mimetype": "text/x-python",
   "name": "python",
   "nbconvert_exporter": "python",
   "pygments_lexer": "ipython3",
   "version": "3.13.5"
  }
 },
 "nbformat": 4,
 "nbformat_minor": 5
}
