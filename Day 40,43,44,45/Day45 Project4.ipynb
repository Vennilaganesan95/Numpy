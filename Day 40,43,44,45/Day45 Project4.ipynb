{
 "cells": [
  {
   "cell_type": "code",
   "execution_count": 1,
   "id": "7ab51944",
   "metadata": {},
   "outputs": [
    {
     "name": "stdout",
     "output_type": "stream",
     "text": [
      "Coefficient Matrix A:\n",
      " [[5 7 7]\n",
      " [2 3 1]\n",
      " [3 7 4]]\n",
      "Constant Vector b:\n",
      " [[4]\n",
      " [1]\n",
      " [3]]\n",
      "Solution Vector x:\n",
      " [[-0.04]\n",
      " [ 0.24]\n",
      " [ 0.36]]\n",
      "Verification A * x:\n",
      " [[4.]\n",
      " [1.]\n",
      " [3.]]\n",
      "Does A*x equal b?\n",
      " True\n"
     ]
    }
   ],
   "source": [
    "import numpy as np\n",
    "\n",
    "# Step 1: Create coefficient matrix A (3x3) and constant vector b (3x1)\n",
    "A = np.random.randint(1, 10, (3, 3))  # Random 3x3 matrix with values 1–9\n",
    "b = np.random.randint(1, 10, (3, 1))  # Random 3x1 column vector with values 1–9\n",
    "\n",
    "print(\"Coefficient Matrix A:\\n\", A)\n",
    "print(\"Constant Vector b:\\n\", b)\n",
    "\n",
    "# Step 2: Solve the system A * x = b\n",
    "x = np.linalg.solve(A, b)\n",
    "\n",
    "print(\"Solution Vector x:\\n\", x)\n",
    "\n",
    "# Step 3: Verify solution → A * x should equal b\n",
    "b_check = np.dot(A, x)   # or use np.matmul(A, x)\n",
    "print(\"Verification A * x:\\n\", b_check)\n",
    "print(\"Does A*x equal b?\\n\", np.allclose(b, b_check))\n"
   ]
  }
 ],
 "metadata": {
  "kernelspec": {
   "display_name": "Python 3",
   "language": "python",
   "name": "python3"
  },
  "language_info": {
   "codemirror_mode": {
    "name": "ipython",
    "version": 3
   },
   "file_extension": ".py",
   "mimetype": "text/x-python",
   "name": "python",
   "nbconvert_exporter": "python",
   "pygments_lexer": "ipython3",
   "version": "3.13.5"
  }
 },
 "nbformat": 4,
 "nbformat_minor": 5
}
