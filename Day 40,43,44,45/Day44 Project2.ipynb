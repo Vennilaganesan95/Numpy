{
 "cells": [
  {
   "cell_type": "code",
   "execution_count": 1,
   "id": "463ca88e",
   "metadata": {},
   "outputs": [
    {
     "name": "stdout",
     "output_type": "stream",
     "text": [
      "Original 3D Array (2 time points, 3 regions, 4 temperature readings):\n",
      " [[[34 98  7 80]\n",
      "  [32 28 59 57]\n",
      "  [ 9  7 66 50]]\n",
      "\n",
      " [[12  3 31 18]\n",
      "  [51 32 55  9]\n",
      "  [83 61 73 94]]]\n",
      "\n",
      "Transposed 3D Array (3 regions, 2 time points, 4 temperature readings):\n",
      " [[[34 98  7 80]\n",
      "  [12  3 31 18]]\n",
      "\n",
      " [[32 28 59 57]\n",
      "  [51 32 55  9]]\n",
      "\n",
      " [[ 9  7 66 50]\n",
      "  [83 61 73 94]]]\n",
      "\n",
      "Swapped Axes (3 regions, 2 time points, 4 temperature readings):\n",
      " [[[34 98  7 80]\n",
      "  [12  3 31 18]]\n",
      "\n",
      " [[32 28 59 57]\n",
      "  [51 32 55  9]]\n",
      "\n",
      " [[ 9  7 66 50]\n",
      "  [83 61 73 94]]]\n",
      "\n",
      "Data for First Time Point (3 regions, 4 temperature readings):\n",
      " [[34 98  7 80]\n",
      " [32 28 59 57]\n",
      " [ 9  7 66 50]]\n"
     ]
    }
   ],
   "source": [
    "import numpy as np\n",
    "\n",
    "# Step 1: Create a 3D array\n",
    "# Shape: (2, 3, 4) -> 2 time points, 3 regions, 4 temperature readings\n",
    "data = np.random.randint(0, 100, (2, 3, 4))\n",
    "print(\"Original 3D Array (2 time points, 3 regions, 4 temperature readings):\\n\", data)\n",
    "\n",
    "# Step 2: Transpose the 3D array (swap the axes)\n",
    "# Here, we reorder axes: (time=0, region=1, readings=2) -> (region=1, time=0, readings=2)\n",
    "transposed_data = np.transpose(data, (1, 0, 2))\n",
    "print(\"\\nTransposed 3D Array (3 regions, 2 time points, 4 temperature readings):\\n\", transposed_data)\n",
    "\n",
    "# Step 3: Swap axes (swap axis 0 and axis 1)\n",
    "# Equivalent to transpose of only 2 axes\n",
    "swapped_data = np.swapaxes(data, 0, 1)\n",
    "print(\"\\nSwapped Axes (3 regions, 2 time points, 4 temperature readings):\\n\", swapped_data)\n",
    "\n",
    "# Step 4: Slice the 3D array (extract data for the first time point)\n",
    "first_time_point_data = data[0, :, :]  # Pick time=0 → shape (3,4)\n",
    "print(\"\\nData for First Time Point (3 regions, 4 temperature readings):\\n\", first_time_point_data)\n"
   ]
  }
 ],
 "metadata": {
  "kernelspec": {
   "display_name": "Python 3",
   "language": "python",
   "name": "python3"
  },
  "language_info": {
   "codemirror_mode": {
    "name": "ipython",
    "version": 3
   },
   "file_extension": ".py",
   "mimetype": "text/x-python",
   "name": "python",
   "nbconvert_exporter": "python",
   "pygments_lexer": "ipython3",
   "version": "3.13.5"
  }
 },
 "nbformat": 4,
 "nbformat_minor": 5
}
