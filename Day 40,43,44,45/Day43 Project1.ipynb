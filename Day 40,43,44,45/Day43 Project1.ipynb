{
 "cells": [
  {
   "cell_type": "code",
   "execution_count": 11,
   "id": "b22b2e0b",
   "metadata": {},
   "outputs": [
    {
     "name": "stdout",
     "output_type": "stream",
     "text": [
      "New Student Grades: [55 61 27 83 69 91 64 29 87 60]\n",
      "Passing Grades: [61 83 69 91 64 87 60]\n",
      "Selected Grades: [27 91 87]\n",
      "Student Results: ['Fail' 'Pass' 'Fail' 'Pass' 'Pass' 'Pass' 'Pass' 'Fail' 'Pass' 'Pass']\n",
      "Any student failed: True\n",
      "Did all students pass? False\n",
      "Sorted Grades: [27 29 55 60 61 64 69 83 87 91]\n",
      "Sorted Indices: [2 7 0 9 1 6 4 3 8 5]\n",
      "Unique Grades: [27 29 55 60 61 64 69 83 87 91]\n"
     ]
    }
   ],
   "source": [
    "import numpy as np\n",
    "\n",
    "# New list of grades (different from previous)\n",
    "grades = np.array([55, 61, 27, 83, 69, 91, 64, 29, 87, 60])\n",
    "\n",
    "print(\"New Student Grades:\", grades)\n",
    "\n",
    "pass_mask = grades >= 60 \n",
    "passing_grades = grades[pass_mask] \n",
    "print(\"Passing Grades:\", passing_grades)\n",
    "\n",
    "student_indices = [2, 5, 8]\n",
    "selected_grades = grades[student_indices]\n",
    "print(\"Selected Grades:\", selected_grades)\n",
    "\n",
    "result = np.where(grades >= 60, \"Pass\", \"Fail\")\n",
    "print(\"Student Results:\", result)\n",
    "\n",
    "any_failed = np.any(grades < 60) \n",
    "all_passed = np.all(grades >= 60) \n",
    "print(\"Any student failed:\", any_failed) \n",
    "print(\"Did all students pass?\", all_passed)\n",
    "\n",
    "sorted_grades = np.sort(grades) \n",
    "print(\"Sorted Grades:\", sorted_grades)\n",
    "\n",
    "sorted_indices = np.argsort(grades) \n",
    "print(\"Sorted Indices:\", sorted_indices)\n",
    "\n",
    "\n",
    "unique_grades = np.unique(grades) \n",
    "print(\"Unique Grades:\", unique_grades)\n"
   ]
  }
 ],
 "metadata": {
  "kernelspec": {
   "display_name": "Python 3",
   "language": "python",
   "name": "python3"
  },
  "language_info": {
   "codemirror_mode": {
    "name": "ipython",
    "version": 3
   },
   "file_extension": ".py",
   "mimetype": "text/x-python",
   "name": "python",
   "nbconvert_exporter": "python",
   "pygments_lexer": "ipython3",
   "version": "3.13.5"
  }
 },
 "nbformat": 4,
 "nbformat_minor": 5
}
