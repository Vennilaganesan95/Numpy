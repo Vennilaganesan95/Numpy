{
 "cells": [
  {
   "cell_type": "code",
   "execution_count": 1,
   "id": "c3db85b8",
   "metadata": {},
   "outputs": [
    {
     "name": "stdout",
     "output_type": "stream",
     "text": [
      "Customer Ratings:\n",
      " [4 3 1 2 3 1 4 5 1 4 1 1 1 1 2 5 4 1 3 1 2 4 3 1 3 5 5 1 3 3 4 3 3 1 1 1 3\n",
      " 2 2 1 5 2 5 1 1 4 1 5 1 2]\n",
      "High-rated products (rating > 3): [4 4 5 4 5 4 4 5 5 4 5 5 4 5]\n",
      "Rating Categories:\n",
      " ['High Rating' 'Medium Rating' 'Low Rating' 'Low Rating' 'Medium Rating'\n",
      " 'Low Rating' 'High Rating' 'High Rating' 'Low Rating' 'High Rating'\n",
      " 'Low Rating' 'Low Rating' 'Low Rating' 'Low Rating' 'Low Rating'\n",
      " 'High Rating' 'High Rating' 'Low Rating' 'Medium Rating' 'Low Rating'\n",
      " 'Low Rating' 'High Rating' 'Medium Rating' 'Low Rating' 'Medium Rating'\n",
      " 'High Rating' 'High Rating' 'Low Rating' 'Medium Rating' 'Medium Rating'\n",
      " 'High Rating' 'Medium Rating' 'Medium Rating' 'Low Rating' 'Low Rating'\n",
      " 'Low Rating' 'Medium Rating' 'Low Rating' 'Low Rating' 'Low Rating'\n",
      " 'High Rating' 'Low Rating' 'High Rating' 'Low Rating' 'Low Rating'\n",
      " 'High Rating' 'Low Rating' 'High Rating' 'Low Rating' 'Low Rating']\n",
      "Index of highest-rated product: 7 (Rating: 5)\n",
      "Ratings sorted descending:\n",
      " [5 5 5 5 5 5 5 4 4 4 4 4 4 4 3 3 3 3 3 3 3 3 3 3 2 2 2 2 2 2 2 1 1 1 1 1 1\n",
      " 1 1 1 1 1 1 1 1 1 1 1 1 1]\n",
      "Any product with rating 1? True\n",
      "Last 10 product ratings: [5 2 5 1 1 4 1 5 1 2]\n",
      "Index to insert 3.5 in sorted ratings: 36\n",
      "Unique ratings: [1 2 3 4 5]\n",
      "Number of distinct ratings: 5\n"
     ]
    }
   ],
   "source": [
    "import numpy as np\n",
    "\n",
    "ratings = np.random.randint(1, 6, 50)\n",
    "print(\"Customer Ratings:\\n\", ratings)\n",
    "\n",
    "high_rated = ratings[ratings > 3]\n",
    "print(\"High-rated products (rating > 3):\", high_rated)\n",
    "\n",
    "conditions = [ratings <= 2, ratings == 3, ratings >= 4]\n",
    "choices = [\"Low Rating\", \"Medium Rating\", \"High Rating\"]\n",
    "\n",
    "# Use default to avoid errors\n",
    "rating_labels = np.select(conditions, choices, default=\"Unknown\")\n",
    "print(\"Rating Categories:\\n\", rating_labels)\n",
    "\n",
    "highest_index = np.argmax(ratings)\n",
    "print(f\"Index of highest-rated product: {highest_index} (Rating: {ratings[highest_index]})\")\n",
    "\n",
    "sorted_desc = np.sort(ratings)[::-1]\n",
    "print(\"Ratings sorted descending:\\n\", sorted_desc)\n",
    "\n",
    "any_low = np.any(ratings == 1)\n",
    "print(\"Any product with rating 1?\", any_low)\n",
    "\n",
    "\n",
    "last_10_ratings = ratings[-10:]\n",
    "print(\"Last 10 product ratings:\", last_10_ratings)\n",
    "\n",
    "# Sort in ascending order for searchsorted\n",
    "sorted_asc = np.sort(ratings)\n",
    "insert_index = np.searchsorted(sorted_asc, 3.5)\n",
    "print(\"Index to insert 3.5 in sorted ratings:\", insert_index)\n",
    "\n",
    "unique_ratings = np.unique(ratings)\n",
    "print(\"Unique ratings:\", unique_ratings)\n",
    "print(\"Number of distinct ratings:\", len(unique_ratings))\n"
   ]
  }
 ],
 "metadata": {
  "kernelspec": {
   "display_name": "Python 3",
   "language": "python",
   "name": "python3"
  },
  "language_info": {
   "codemirror_mode": {
    "name": "ipython",
    "version": 3
   },
   "file_extension": ".py",
   "mimetype": "text/x-python",
   "name": "python",
   "nbconvert_exporter": "python",
   "pygments_lexer": "ipython3",
   "version": "3.13.5"
  }
 },
 "nbformat": 4,
 "nbformat_minor": 5
}
