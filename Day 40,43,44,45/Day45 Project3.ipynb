{
 "cells": [
  {
   "cell_type": "code",
   "execution_count": 2,
   "id": "be224b4f",
   "metadata": {},
   "outputs": [
    {
     "name": "stdout",
     "output_type": "stream",
     "text": [
      "Matrix A:\n",
      " [[3 3 4]\n",
      " [4 6 9]\n",
      " [3 1 9]]\n",
      "Matrix B:\n",
      " [[5 5 5]\n",
      " [9 9 4]\n",
      " [6 9 8]]\n",
      "\n",
      "Result of np.dot(A, B):\n",
      " [[ 66  78  59]\n",
      " [128 155 116]\n",
      " [ 78 105  91]]\n",
      "\n",
      "Result of np.matmul(A, B):\n",
      " [[ 66  78  59]\n",
      " [128 155 116]\n",
      " [ 78 105  91]]\n",
      "\n",
      "np.dot and np.matmul give the same result? True\n"
     ]
    }
   ],
   "source": [
    "import numpy as np\n",
    "\n",
    "# 1. Matrix Multiplication using np.dot()\n",
    "A = np.random.randint(1, 10, (3, 3))\n",
    "B = np.random.randint(1, 10, (3, 3))\n",
    "\n",
    "print(\"Matrix A:\\n\", A)\n",
    "print(\"Matrix B:\\n\", B)\n",
    "\n",
    "result_dot = np.dot(A, B)\n",
    "print(\"\\nResult of np.dot(A, B):\\n\", result_dot)\n",
    "\n",
    "# 2. Matrix Multiplication using np.matmul()\n",
    "\n",
    "result_matmul = np.matmul(A, B)\n",
    "print(\"\\nResult of np.matmul(A, B):\\n\", result_matmul)\n",
    "\n",
    "# Verify both are equal\n",
    "print(\"\\nnp.dot and np.matmul give the same result?\",\n",
    "      np.array_equal(result_dot, result_matmul))\n",
    "\n",
    "\n"
   ]
  },
  {
   "cell_type": "code",
   "execution_count": null,
   "id": "e7dac2e3",
   "metadata": {},
   "outputs": [],
   "source": [
    "# 3. Matrix Multiplication using the @ operator\n",
    "C = np.array([[1, 2],\n",
    "              [3, 4]])\n",
    "D = np.array([[5, 6],\n",
    "              [7, 8]])\n",
    "\n",
    "print(\"\\nMatrix C:\\n\", C)\n",
    "print(\"Matrix D:\\n\", D)\n",
    "\n",
    "result_at = C @ D\n",
    "result_dot_CD = np.dot(C, D)\n",
    "\n",
    "print(\"\\nResult of C @ D:\\n\", result_at)\n",
    "print(\"Result of np.dot(C, D):\\n\", result_dot_CD)\n",
    "\n",
    "# Verify both are equal\n",
    "print(\"\\nC @ D equals np.dot(C, D)?\", np.array_equal(result_at, result_dot_CD))"
   ]
  },
  {
   "cell_type": "code",
   "execution_count": 6,
   "id": "e9304779",
   "metadata": {},
   "outputs": [
    {
     "name": "stdout",
     "output_type": "stream",
     "text": [
      "Matrix A:\n",
      " [[1 3]\n",
      " [3 6]]\n",
      "\n",
      "Inverse of A:\n",
      " [[-2.          1.        ]\n",
      " [ 1.         -0.33333333]]\n",
      "\n",
      "A * A_inv (should be Identity):\n",
      " [[1.00000000e+00 5.55111512e-17]\n",
      " [0.00000000e+00 1.00000000e+00]]\n",
      "\n",
      "Matrix B:\n",
      " [[9 8 7]\n",
      " [9 3 6]\n",
      " [5 9 3]]\n",
      "\n",
      "Determinant of B: 81.00000000000003\n",
      "Interpretation: Matrix B is non-singular (invertible).\n",
      "\n",
      "Matrix C:\n",
      " [[5 4 3]\n",
      " [8 4 6]\n",
      " [1 7 3]]\n",
      "\n",
      "Eigenvalues:\n",
      " [13.8247004   1.45544341 -3.28014381]\n",
      "\n",
      "Eigenvectors (columns correspond to eigenvalues):\n",
      " [[-0.49284154 -0.57739865  0.05644191]\n",
      " [-0.7091895  -0.09640735 -0.67118814]\n",
      " [-0.50414033  0.81075053  0.73913516]]\n"
     ]
    }
   ],
   "source": [
    "# 4. Inverse of a Matrix\n",
    "A = np.random.randint(1, 10, (2, 2))   # Random 2x2 matrix\n",
    "print(\"Matrix A:\\n\", A)\n",
    "\n",
    "# Calculate inverse\n",
    "A_inv = np.linalg.inv(A)\n",
    "print(\"\\nInverse of A:\\n\", A_inv)\n",
    "\n",
    "# Verify: A * A_inv = Identity\n",
    "identity_check = np.dot(A, A_inv)\n",
    "print(\"\\nA * A_inv (should be Identity):\\n\", identity_check)\n",
    "\n",
    "# 5. Determinant of a Matrix\n",
    "B = np.random.randint(1, 10, (3, 3))   # Random 3x3 matrix\n",
    "print(\"\\nMatrix B:\\n\", B)\n",
    "\n",
    "det_B = np.linalg.det(B)\n",
    "print(\"\\nDeterminant of B:\", det_B)\n",
    "\n",
    "# Interpretation:\n",
    "if np.isclose(det_B, 0):\n",
    "    print(\"Interpretation: Matrix B is singular (not invertible).\")\n",
    "else:\n",
    "    print(\"Interpretation: Matrix B is non-singular (invertible).\")\n",
    "\n",
    "# 6. Eigenvalues and Eigenvectors\n",
    "\n",
    "C = np.random.randint(1, 10, (3, 3))   # Random 3x3 matrix\n",
    "print(\"\\nMatrix C:\\n\", C)\n",
    "\n",
    "eigenvalues, eigenvectors = np.linalg.eig(C)\n",
    "print(\"\\nEigenvalues:\\n\", eigenvalues)\n",
    "print(\"\\nEigenvectors (columns correspond to eigenvalues):\\n\", eigenvectors)\n"
   ]
  },
  {
   "cell_type": "code",
   "execution_count": 7,
   "id": "abf7fed5",
   "metadata": {},
   "outputs": [
    {
     "name": "stdout",
     "output_type": "stream",
     "text": [
      "7. Solution of Ax = b:\n",
      " [-3.  1.  9.]\n",
      "Verification (A @ x):\n",
      " [10.  8. 13.]\n",
      "\n",
      "8. Percentiles of Data:\n",
      "25th Percentile: -0.7289745580315529\n",
      "50th Percentile (Median): -0.037425896349357855\n",
      "75th Percentile: 0.676960224258701\n",
      "\n",
      "9. Histogram Values:\n",
      "Counts: [  6   3  12  10  31  49  81 103 106 107 112 117  95  67  46  28  11  10\n",
      "   4   2]\n",
      "Bin edges: [-3.01689333 -2.7145334  -2.41217348 -2.10981356 -1.80745363 -1.50509371\n",
      " -1.20273378 -0.90037386 -0.59801394 -0.29565401  0.00670591  0.30906583\n",
      "  0.61142576  0.91378568  1.21614561  1.51850553  1.82086545  2.12322538\n",
      "  2.4255853   2.72794523  3.03030515]\n"
     ]
    },
    {
     "data": {
      "image/png": "[encoded data removed]",
      "text/plain": [
       "<Figure size 640x480 with 1 Axes>"
      ]
     },
     "metadata": {},
     "output_type": "display_data"
    },
    {
     "name": "stdout",
     "output_type": "stream",
     "text": [
      "\n",
      "10. Random Samples:\n",
      "Sample 1: [ 2 10  6  3  8]\n",
      "Sample 2: [9 3 7 4 6]\n",
      "Sample 3: [7 6 5 4 1]\n"
     ]
    }
   ],
   "source": [
    "import numpy as np\n",
    "import matplotlib.pyplot as plt\n",
    "\n",
    "# 7. Solve a System of Linear Equations\n",
    "\n",
    "A = np.array([[3, 1, 2],\n",
    "              [1, 2, 1],\n",
    "              [2, 1, 2]])   # Coefficient matrix\n",
    "b = np.array([10, 8, 13])   # Constant vector\n",
    "\n",
    "x = np.linalg.solve(A, b)\n",
    "print(\"7. Solution of Ax = b:\\n\", x)\n",
    "\n",
    "# Verify\n",
    "print(\"Verification (A @ x):\\n\", np.dot(A, x))\n",
    "\n",
    "# 8. Percentiles of an Array\n",
    "data = np.random.randn(1000)  # 1000 random numbers\n",
    "percentiles = np.percentile(data, [25, 50, 75])\n",
    "print(\"\\n8. Percentiles of Data:\")\n",
    "print(\"25th Percentile:\", percentiles[0])\n",
    "print(\"50th Percentile (Median):\", percentiles[1])\n",
    "print(\"75th Percentile:\", percentiles[2])\n",
    "\n",
    "# 9. Histogram of Random Data\n",
    "data_hist = np.random.randn(1000)\n",
    "counts, bin_edges = np.histogram(data_hist, bins=20)\n",
    "\n",
    "print(\"\\n9. Histogram Values:\")\n",
    "print(\"Counts:\", counts)\n",
    "print(\"Bin edges:\", bin_edges)\n",
    "\n",
    "# Plot histogram\n",
    "plt.hist(data_hist, bins=20, color='skyblue', edgecolor='black', alpha=0.7)\n",
    "plt.title(\"Histogram of Random Data\")\n",
    "plt.xlabel(\"Value\")\n",
    "plt.ylabel(\"Frequency\")\n",
    "plt.show()\n",
    "\n",
    "\n",
    "# 10. Random Sampling from Dataset\n",
    "\n",
    "arr = np.arange(1, 11)   # [1, 2, ..., 10]\n",
    "\n",
    "print(\"\\n10. Random Samples:\")\n",
    "for i in range(3):   # Repeat 3 times\n",
    "    sample = np.random.choice(arr, 5, replace=False)  # Pick 5 without replacement\n",
    "    print(f\"Sample {i+1}:\", sample)\n"
   ]
  },
  {
   "cell_type": "code",
   "execution_count": 8,
   "id": "eff43553",
   "metadata": {},
   "outputs": [
    {
     "name": "stdout",
     "output_type": "stream",
     "text": [
      "11. Normal Distribution Stats:\n",
      "Mean: 0.0330\n",
      "Standard Deviation: 1.0043\n"
     ]
    },
    {
     "data": {
      "image/png": "[encoded data removed]",
      "text/plain": [
       "<Figure size 640x480 with 1 Axes>"
      ]
     },
     "metadata": {},
     "output_type": "display_data"
    },
    {
     "name": "stdout",
     "output_type": "stream",
     "text": [
      "\n",
      "13. Coin Toss Simulation (100 trials):\n",
      "Proportion of Heads: 0.52\n",
      "Proportion of Tails: 0.48\n"
     ]
    }
   ],
   "source": [
    "import numpy as np\n",
    "import matplotlib.pyplot as plt\n",
    "\n",
    "# 11. Generate Normal Distribution Data\n",
    "\n",
    "data = np.random.randn(1000)  # 1000 random numbers ~ N(0,1)\n",
    "\n",
    "mean = np.mean(data)\n",
    "std_dev = np.std(data)\n",
    "\n",
    "print(\"11. Normal Distribution Stats:\")\n",
    "print(f\"Mean: {mean:.4f}\")\n",
    "print(f\"Standard Deviation: {std_dev:.4f}\")\n",
    "\n",
    "# 12. Cumulative Distribution\n",
    "\n",
    "# Sort data for proper cumulative distribution\n",
    "sorted_data = np.sort(data)\n",
    "cumulative = np.cumsum(sorted_data) / np.sum(sorted_data)\n",
    "\n",
    "plt.plot(sorted_data, cumulative, color=\"blue\")\n",
    "plt.title(\"Cumulative Distribution of Random Data\")\n",
    "plt.xlabel(\"Value\")\n",
    "plt.ylabel(\"Cumulative Proportion\")\n",
    "plt.grid(True)\n",
    "plt.show()\n",
    "# 13. Simulate Coin Toss (Bernoulli Trial)\n",
    "\n",
    "coin_tosses = np.random.choice([0, 1], size=100)  # 0 = Tails, 1 = Heads\n",
    "\n",
    "# Count proportions\n",
    "heads = np.mean(coin_tosses)   # proportion of 1's\n",
    "tails = 1 - heads\n",
    "\n",
    "print(\"\\n13. Coin Toss Simulation (100 trials):\")\n",
    "print(f\"Proportion of Heads: {heads:.2f}\")\n",
    "print(f\"Proportion of Tails: {tails:.2f}\")\n"
   ]
  }
 ],
 "metadata": {
  "kernelspec": {
   "display_name": "Python 3",
   "language": "python",
   "name": "python3"
  },
  "language_info": {
   "codemirror_mode": {
    "name": "ipython",
    "version": 3
   },
   "file_extension": ".py",
   "mimetype": "text/x-python",
   "name": "python",
   "nbconvert_exporter": "python",
   "pygments_lexer": "ipython3",
   "version": "3.13.5"
  }
 },
 "nbformat": 4,
 "nbformat_minor": 5
}
