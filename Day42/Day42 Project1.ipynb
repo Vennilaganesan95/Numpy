{
 "cells": [
  {
   "cell_type": "code",
   "execution_count": 19,
   "id": "fb1dd283",
   "metadata": {},
   "outputs": [
    {
     "name": "stdout",
     "output_type": "stream",
     "text": [
      "Temperature (°C):\n",
      " [[30 32 31 29 28 27 30]\n",
      " [25 26 27 28 29 30 31]\n",
      " [20 21 22 23 24 25 26]]\n",
      "\n",
      "Humidity (%):\n",
      " [[60 62 58 55 65 70 68]\n",
      " [50 52 55 53 56 58 60]\n",
      " [45 48 47 50 52 55 57]]\n",
      "\n",
      "Wind Speed (m/s):\n",
      " [[5 6 7 5 4 6 5]\n",
      " [3 4 5 4 3 4 5]\n",
      " [2 3 2 3 4 3 2]]\n",
      "\n",
      "Perceived Temperature (Temp + Wind Speed):\n",
      " [[35 38 38 34 32 33 35]\n",
      " [28 30 32 32 32 34 36]\n",
      " [22 24 24 26 28 28 28]]\n",
      "\n",
      "Temperature - Humidity:\n",
      " [[-30 -30 -27 -26 -37 -43 -38]\n",
      " [-25 -26 -28 -25 -27 -28 -29]\n",
      " [-25 -27 -25 -27 -28 -30 -31]]\n"
     ]
    }
   ],
   "source": [
    "import numpy as np\n",
    "\n",
    "# Temperature data (°C) for 3 cities over 7 days\n",
    "temperature = np.array([\n",
    "    [30, 32, 31, 29, 28, 27, 30],   \n",
    "    [25, 26, 27, 28, 29, 30, 31],   \n",
    "    [20, 21, 22, 23, 24, 25, 26]    \n",
    "])\n",
    "\n",
    "# Humidity data (%) for 3 cities over 7 days\n",
    "humidity = np.array([\n",
    "    [60, 62, 58, 55, 65, 70, 68],  \n",
    "    [50, 52, 55, 53, 56, 58, 60],   \n",
    "    [45, 48, 47, 50, 52, 55, 57]    \n",
    "])\n",
    "\n",
    "# Wind speed data (m/s) for 3 cities over 7 days\n",
    "wind_speed = np.array([\n",
    "    [5, 6, 7, 5, 4, 6, 5],       \n",
    "    [3, 4, 5, 4, 3, 4, 5],          \n",
    "    [2, 3, 2, 3, 4, 3, 2]          \n",
    "])\n",
    "\n",
    "print(\"Temperature (°C):\\n\", temperature)\n",
    "print(\"\\nHumidity (%):\\n\", humidity)\n",
    "print(\"\\nWind Speed (m/s):\\n\", wind_speed)\n",
    "\n",
    "\n",
    "# a. Element-wise addition (temperature + wind_speed)\n",
    "perceived_temp = np.add(temperature , wind_speed)\n",
    "print(\"\\nPerceived Temperature (Temp + Wind Speed):\\n\", perceived_temp)\n",
    "\n",
    "# b. Subtract humidity from temperature\n",
    "temp_minus_humidity = np.subtract(temperature,humidity)\n",
    "print(\"\\nTemperature - Humidity:\\n\", temp_minus_humidity)\n",
    "\n",
    "\n",
    "\n",
    "\n"
   ]
  },
  {
   "cell_type": "code",
   "execution_count": null,
   "id": "d8c790f4",
   "metadata": {},
   "outputs": [],
   "source": []
  },
  {
   "cell_type": "code",
   "execution_count": 20,
   "id": "92d99167",
   "metadata": {},
   "outputs": [
    {
     "name": "stdout",
     "output_type": "stream",
     "text": [
      "Temperature - Threshold (30°C):\n",
      " [[  0   2   1  -1  -2  -3   0]\n",
      " [ -5  -4  -3  -2  -1   0   1]\n",
      " [-10  -9  -8  -7  -6  -5  -4]]\n",
      "[[  0   2   1  -1  -2  -3   0]\n",
      " [ -5  -4  -3  -2  -1   0   1]\n",
      " [-10  -9  -8  -7  -6  -5  -4]]\n",
      "\n",
      "Cities/Days Above 30°C:\n",
      " [[False  True  True False False False False]\n",
      " [False False False False False False  True]\n",
      " [False False False False False False False]]\n"
     ]
    }
   ],
   "source": [
    "threshold = 30\n",
    "# a. Subtract threshold using broadcasting\n",
    "temp_above_threshold = np.subtract(temperature,threshold)\n",
    "print(\"Temperature - Threshold (30°C):\\n\", temp_above_threshold)\n",
    "print(temp_above_threshold)\n",
    "\n",
    "# Identify which values are above the threshold\n",
    "above_mask = temperature > threshold\n",
    "print(\"\\nCities/Days Above 30°C:\\n\", above_mask)"
   ]
  },
  {
   "cell_type": "code",
   "execution_count": 21,
   "id": "2c4cf660",
   "metadata": {},
   "outputs": [
    {
     "name": "stdout",
     "output_type": "stream",
     "text": [
      "√ Wind Speed:\n",
      " [[2.23606798 2.44948974 2.64575131 2.23606798 2.         2.44948974\n",
      "  2.23606798]\n",
      " [1.73205081 2.         2.23606798 2.         1.73205081 2.\n",
      "  2.23606798]\n",
      " [1.41421356 1.73205081 1.41421356 1.73205081 2.         1.73205081\n",
      "  1.41421356]]\n",
      "\n",
      "log10(Humidity):\n",
      " [[1.77815125 1.79239169 1.76342799 1.74036269 1.81291336 1.84509804\n",
      "  1.83250891]\n",
      " [1.69897    1.71600334 1.74036269 1.72427587 1.74818803 1.76342799\n",
      "  1.77815125]\n",
      " [1.65321251 1.68124124 1.67209786 1.69897    1.71600334 1.74036269\n",
      "  1.75587486]]\n",
      "\n",
      "Sin(Temperature):\n",
      " [[-0.98803162  0.55142668 -0.40403765 -0.66363388  0.27090579  0.95637593\n",
      "  -0.98803162]\n",
      " [-0.13235175  0.76255845  0.95637593  0.27090579 -0.66363388 -0.98803162\n",
      "  -0.40403765]\n",
      " [ 0.91294525  0.83665564 -0.00885131 -0.8462204  -0.90557836 -0.13235175\n",
      "   0.76255845]]\n"
     ]
    }
   ],
   "source": [
    "# a. Square root of wind speed (simulated reduction)\n",
    "sqrt_wind = np.sqrt(wind_speed)\n",
    "print(\"√ Wind Speed:\\n\", sqrt_wind)\n",
    "\n",
    "# b. Logarithm (base 10) of humidity\n",
    "log_humidity = np.log10(humidity)\n",
    "print(\"\\nlog10(Humidity):\\n\", log_humidity)\n",
    "\n",
    "# c. Sine of temperature (simulate seasonal variation)\n",
    "seasonal_temp = np.sin(temperature)\n",
    "print(\"\\nSin(Temperature):\\n\", seasonal_temp)"
   ]
  },
  {
   "cell_type": "code",
   "execution_count": null,
   "id": "3ce6ed53",
   "metadata": {},
   "outputs": [
    {
     "name": "stdout",
     "output_type": "stream",
     "text": [
      "Mean Temperature per Day:\n",
      " [25.         26.33333333 26.66666667 26.66666667 27.         27.33333333\n",
      " 29.        ]\n",
      "\n",
      "Median Temperature per Day:\n",
      " [25. 26. 27. 28. 28. 27. 30.]\n",
      "\n",
      "Max Wind Speed: 7\n",
      "Index of Max Wind Speed (flattened): 2\n",
      "Position (City, Day): (np.int64(0), np.int64(2))\n",
      "\n",
      "Variance of Humidity per City:\n",
      " [25.10204082 10.40816327 16.24489796]\n",
      "\n",
      "Standard Deviation of Humidity per City:\n",
      " [5.01019369 3.22616851 4.03049599]\n"
     ]
    }
   ],
   "source": [
    "# a. Mean & Median temperature across all cities (per day → axis=0)\n",
    "mean_temp_per_day = np.mean(temperature, axis=0)\n",
    "median_temp_per_day = np.median(temperature, axis=0)\n",
    "\n",
    "print(\"Mean Temperature per Day:\\n\", mean_temp_per_day)\n",
    "print(\"\\nMedian Temperature per Day:\\n\", median_temp_per_day)\n",
    "\n",
    "# b. Max wind speed and index\n",
    "max_wind = np.max(wind_speed)\n",
    "max_wind_index = np.argmax(wind_speed)  # flattened index\n",
    "max_wind_position = np.unravel_index(max_wind_index, wind_speed.shape)\n",
    "\n",
    "print(\"\\nMax Wind Speed:\", max_wind)\n",
    "print(\"Index of Max Wind Speed (flattened):\", max_wind_index)\n",
    "print(\"Position (City, Day):\", max_wind_position)\n",
    " c. Variance & Standard Deviation of humidity (per city → axis=1)\n",
    "variance_humidity = np.var(humidity, axis=1)\n",
    "stddev_humidity = np.std(humidity, axis=1)\n",
    "\n",
    "print(\"\\nVariance of Humidity per City:\\n\", variance_humidity)\n",
    "print(\"\\nStandard Deviation of Humidity per City:\\n\", stddev_humidity)"
   ]
  }
 ],
 "metadata": {
  "kernelspec": {
   "display_name": "Python 3",
   "language": "python",
   "name": "python3"
  },
  "language_info": {
   "codemirror_mode": {
    "name": "ipython",
    "version": 3
   },
   "file_extension": ".py",
   "mimetype": "text/x-python",
   "name": "python",
   "nbconvert_exporter": "python",
   "pygments_lexer": "ipython3",
   "version": "3.13.5"
  }
 },
 "nbformat": 4,
 "nbformat_minor": 5
}
