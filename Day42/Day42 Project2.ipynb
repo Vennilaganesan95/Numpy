{
 "cells": [
  {
   "cell_type": "code",
   "execution_count": 2,
   "id": "a2b97b7f",
   "metadata": {},
   "outputs": [
    {
     "name": "stdout",
     "output_type": "stream",
     "text": [
      "Sales Data (Units Sold):\n",
      " [[202 448 370 206 171 288 120 202 221 314 430 187]\n",
      " [472 199 459 251 230 249 408 357 443 393 485 291]\n",
      " [376 260 413 121 352 335 444 148 158 269 287 370]\n",
      " [289 274 150 463 154 343 419 230 406 234 120 428]\n",
      " [266 373 487 188 415 113 341 364 445 152 485 439]]\n"
     ]
    }
   ],
   "source": [
    "import numpy as np\n",
    "\n",
    "# Seed for reproducibility\n",
    "np.random.seed(42)\n",
    "\n",
    "# a. Create a 5x12 array (5 products, 12 months)\n",
    "sales_data = np.random.randint(100, 501, size=(5, 12))\n",
    "\n",
    "print(\"Sales Data (Units Sold):\\n\", sales_data)\n"
   ]
  },
  {
   "cell_type": "code",
   "execution_count": 3,
   "id": "9783ad76",
   "metadata": {},
   "outputs": [
    {
     "name": "stdout",
     "output_type": "stream",
     "text": [
      "\n",
      "Yearly Sales per Product:\n",
      " [3159 4237 3533 3510 4068]\n",
      "\n",
      "Monthly Growth per Product:\n",
      " [[ 246  -78 -164  -35  117 -168   82   19   93  116 -243]\n",
      " [-273  260 -208  -21   19  159  -51   86  -50   92 -194]\n",
      " [-116  153 -292  231  -17  109 -296   10  111   18   83]\n",
      " [ -15 -124  313 -309  189   76 -189  176 -172 -114  308]\n",
      " [ 107  114 -299  227 -302  228   23   81 -293  333  -46]]\n"
     ]
    }
   ],
   "source": [
    "# a. Yearly sales for each product (sum across months → axis=1)\n",
    "yearly_sales = np.sum(sales_data, axis=1)\n",
    "print(\"\\nYearly Sales per Product:\\n\", yearly_sales)\n",
    "\n",
    "# b. Monthly growth for each product (difference between consecutive months)\n",
    "monthly_growth = np.diff(sales_data, axis=1)\n",
    "print(\"\\nMonthly Growth per Product:\\n\", monthly_growth)"
   ]
  },
  {
   "cell_type": "code",
   "execution_count": 6,
   "id": "e5b3a4ff",
   "metadata": {},
   "outputs": [
    {
     "name": "stdout",
     "output_type": "stream",
     "text": [
      "\n",
      "Sales Data after 10% Discount:\n",
      " [[181.8 403.2 333.  185.4 153.9 259.2 108.  181.8 198.9 282.6 387.  168.3]\n",
      " [424.8 179.1 413.1 225.9 207.  224.1 367.2 321.3 398.7 353.7 436.5 261.9]\n",
      " [338.4 234.  371.7 108.9 316.8 301.5 399.6 133.2 142.2 242.1 258.3 333. ]\n",
      " [260.1 246.6 135.  416.7 138.6 308.7 377.1 207.  365.4 210.6 108.  385.2]\n",
      " [239.4 335.7 438.3 169.2 373.5 101.7 306.9 327.6 400.5 136.8 436.5 395.1]]\n"
     ]
    }
   ],
   "source": [
    "# a. Apply 10% discount (multiply by 0.9)\n",
    "discounted_sales = sales_data * 0.9\n",
    "print(\"\\nSales Data after 10% Discount:\\n\", discounted_sales)"
   ]
  },
  {
   "cell_type": "code",
   "execution_count": null,
   "id": "fd5f2541",
   "metadata": {},
   "outputs": [],
   "source": [
    "# a. Apply np.exp() to simulate exponential growth\n",
    "exp_sales = np.exp(sales_data)\n",
    "print(\"\\nExponential Growth (np.exp):\\n\", exp_sales)\n",
    "\n",
    "# b. Apply np.log() to analyze sales on logarithmic scale\n",
    "log_sales = np.log(sales_data)\n",
    "print(\"\\nLogarithmic Scale (np.log):\\n\", log_sales)\n",
    "\n",
    "# c. Apply np.power() to simulate 1.1x monthly growth projection\n",
    "growth_rate = 1.1\n",
    "projected_sales = np.power(sales_data, growth_rate)\n",
    "print(\"\\nProjected Sales with 1.1x Growth (np.power):\\n\", projected_sales)"
   ]
  },
  {
   "cell_type": "code",
   "execution_count": 8,
   "id": "b88629ae",
   "metadata": {},
   "outputs": [
    {
     "name": "stdout",
     "output_type": "stream",
     "text": [
      "\n",
      "Mean Sales (all products, all months): 308.45\n",
      "\n",
      "Variance of Sales per Product:\n",
      " [10327.6875      9955.90972222 10481.24305556 12982.75\n",
      " 15516.        ]\n",
      "\n",
      "Month with Lowest Sales per Product: [ 6  1  3 10  5]\n",
      "Month with Highest Sales per Product: [ 1 10  6  3  2]\n",
      "\n",
      "Standard Deviation of Sales per Product:\n",
      " [101.62523063  99.77930508 102.37794223 113.94187114 124.56323695]\n"
     ]
    }
   ],
   "source": [
    "# a. Mean sales for all products over 12 months\n",
    "mean_sales_all = np.mean(sales_data)\n",
    "print(\"\\nMean Sales (all products, all months):\", mean_sales_all)\n",
    "\n",
    "# b. Variance of sales for each product (row-wise)\n",
    "variance_per_product = np.var(sales_data, axis=1)\n",
    "print(\"\\nVariance of Sales per Product:\\n\", variance_per_product)\n",
    "\n",
    "# c. Month with lowest and highest sales for each product\n",
    "min_month_index = np.argmin(sales_data, axis=1)\n",
    "max_month_index = np.argmax(sales_data, axis=1)\n",
    "print(\"\\nMonth with Lowest Sales per Product:\", min_month_index)\n",
    "print(\"Month with Highest Sales per Product:\", max_month_index)\n",
    "\n",
    "# d. Standard deviation of sales for each product (row-wise)\n",
    "stddev_per_product = np.std(sales_data, axis=1)\n",
    "print(\"\\nStandard Deviation of Sales per Product:\\n\", stddev_per_product)"
   ]
  }
 ],
 "metadata": {
  "kernelspec": {
   "display_name": "Python 3",
   "language": "python",
   "name": "python3"
  },
  "language_info": {
   "codemirror_mode": {
    "name": "ipython",
    "version": 3
   },
   "file_extension": ".py",
   "mimetype": "text/x-python",
   "name": "python",
   "nbconvert_exporter": "python",
   "pygments_lexer": "ipython3",
   "version": "3.13.5"
  }
 },
 "nbformat": 4,
 "nbformat_minor": 5
}
