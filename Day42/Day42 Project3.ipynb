{
 "cells": [
  {
   "cell_type": "code",
   "execution_count": 1,
   "id": "355c915d",
   "metadata": {},
   "outputs": [
    {
     "name": "stdout",
     "output_type": "stream",
     "text": [
      "Addition: [12 24 36 48 60]\n",
      "Subtraction: [ 8 16 24 32 40]\n",
      "Multiplication: [ 20  80 180 320 500]\n",
      "Division: [5. 5. 5. 5. 5.]\n"
     ]
    }
   ],
   "source": [
    "import numpy as np\n",
    "\n",
    "# Create two 1D arrays of the same length\n",
    "arr1 = np.array([10, 20, 30, 40, 50])\n",
    "arr2 = np.array([2, 4, 6, 8, 10])\n",
    "\n",
    "# Element-wise addition\n",
    "addition = np.add(arr1,arr2)\n",
    "print(\"Addition:\", addition)\n",
    "\n",
    "# Element-wise subtraction\n",
    "subtraction = np.subtract(arr1,arr2)\n",
    "print(\"Subtraction:\", subtraction)\n",
    "\n",
    "# Element-wise multiplication\n",
    "multiplication = np.multiply(arr1,arr2)\n",
    "print(\"Multiplication:\", multiplication)\n",
    "\n",
    "# Element-wise division\n",
    "division =np.divide(arr1,arr2) \n",
    "print(\"Division:\", division)\n"
   ]
  },
  {
   "cell_type": "code",
   "execution_count": 3,
   "id": "95888521",
   "metadata": {},
   "outputs": [
    {
     "name": "stdout",
     "output_type": "stream",
     "text": [
      "Original 2D Array:\n",
      " [[1 2 3]\n",
      " [4 5 6]\n",
      " [7 8 9]]\n",
      "\n",
      "1D Array:\n",
      " [10 20 30]\n",
      "\n",
      "Result after Broadcasting Addition:\n",
      " [[11 22 33]\n",
      " [14 25 36]\n",
      " [17 28 39]]\n"
     ]
    }
   ],
   "source": [
    "# Create a 2D array (3x3)\n",
    "arr2d = np.array([\n",
    "    [1, 2, 3],\n",
    "    [4, 5, 6],\n",
    "    [7, 8, 9]\n",
    "])\n",
    "\n",
    "# Create a 1D array (length 3)\n",
    "arr1d = np.array([10, 20, 30])\n",
    "\n",
    "# Use broadcasting to add the 1D array to each row of the 2D array\n",
    "result = arr2d + arr1d\n",
    "print(\"Original 2D Array:\\n\", arr2d)\n",
    "print(\"\\n1D Array:\\n\", arr1d)\n",
    "print(\"\\nResult after Broadcasting Addition:\\n\", result)"
   ]
  },
  {
   "cell_type": "code",
   "execution_count": 12,
   "id": "b8acf4eb",
   "metadata": {},
   "outputs": [
    {
     "name": "stdout",
     "output_type": "stream",
     "text": [
      "Array1: [ 5 10 15 20]\n",
      "Array2: [2 4 6 8]\n",
      "\n",
      "Using np.add(): [ 7 14 21 28]\n",
      "Using + operator: [ 7 14 21 28]\n",
      "Are both results equal? True\n",
      "\n",
      "Using np.subtract(): [ 3  6  9 12]\n",
      "Using - operator: [ 3  6  9 12]\n",
      "Are both results equal? True\n",
      "\n",
      "Using np.multiply(): [ 10  40  90 160]\n",
      "Using * operator: [ 10  40  90 160]\n",
      "Are both results equal? True\n",
      "\n",
      "Using np.divide() with safety:\n",
      " [5.e+00 2.e+11 6.e+00 4.e+11]\n",
      "Using / operator with safety:\n",
      " [5.e+00 2.e+11 6.e+00 4.e+11]\n",
      "Are both results equal? True\n"
     ]
    }
   ],
   "source": [
    "import numpy as np\n",
    "\n",
    "# Create two 1D arrays\n",
    "arr1 = np.array([5, 10, 15, 20])\n",
    "arr2 = np.array([2, 4, 6, 8])\n",
    "print(\"Array1:\",arr1)\n",
    "print(\"Array2:\",arr2)\n",
    "\n",
    "# Element-wise addition using np.add()\n",
    "add_ufunc = np.add(arr1, arr2)\n",
    "print(\"\\nUsing np.add():\", add_ufunc)\n",
    "\n",
    "# Element-wise addition using the + operator\n",
    "add_operator = arr1 + arr2\n",
    "print(\"Using + operator:\", add_operator)\n",
    "\n",
    "# Verify if they are equal\n",
    "print(\"Are both results equal?\", np.array_equal(add_ufunc, add_operator))\n",
    "\n",
    "# Element-wise subtraction using np.subtract()\n",
    "sub_ufunc = np.subtract(arr1, arr2)\n",
    "print(\"\\nUsing np.subtract():\", sub_ufunc)\n",
    "\n",
    "# Element-wise subtraction using the - operator\n",
    "sub_operator = arr1 - arr2\n",
    "print(\"Using - operator:\", sub_operator)\n",
    "\n",
    "# Verify if both results are equal\n",
    "print(\"Are both results equal?\", np.array_equal(sub_ufunc, sub_operator))\n",
    "\n",
    "# Element-wise multiplication using np.multiply()\n",
    "mul_ufunc = np.multiply(arr1, arr2)\n",
    "print(\"\\nUsing np.multiply():\", mul_ufunc)\n",
    "\n",
    "# Element-wise multiplication using the * operator\n",
    "mul_operator = arr1 * arr2\n",
    "print(\"Using * operator:\", mul_operator)\n",
    "\n",
    "# Verify if both results are equal\n",
    "print(\"Are both results equal?\", np.array_equal(mul_ufunc, mul_operator))\n",
    "\n",
    "# Create two 1D arrays (note one zero to demonstrate safety)\n",
    "array1 = np.array([10, 20, 30, 40])\n",
    "array2 = np.array([2, 0, 5, 0])  # divisor has zeros\n",
    "\n",
    "# Add a small constant to divisor to avoid division by zero\n",
    "safe_divisor = array2 + 1e-10\n",
    "\n",
    "# Element-wise division using np.divide()\n",
    "div_ufunc = np.divide(array1, safe_divisor)\n",
    "print(\"\\nUsing np.divide() with safety:\\n\", div_ufunc)\n",
    "\n",
    "# Compare with / operator (also safe)\n",
    "div_operator = array1 / safe_divisor\n",
    "print(\"Using / operator with safety:\\n\", div_operator)\n",
    "\n",
    "# Verify equality\n",
    "print(\"Are both results equal?\", np.allclose(div_ufunc, div_operator))\n"
   ]
  },
  {
   "cell_type": "code",
   "execution_count": null,
   "id": "dab0dbc8",
   "metadata": {},
   "outputs": [
    {
     "name": "stdout",
     "output_type": "stream",
     "text": [
      "Modulus using np.mod(): [1.00000000e+00 3.00000000e+00 9.99992714e-11 1.00000000e+00]\n",
      "Modulus using % operator: [1.00000000e+00 3.00000000e+00 9.99992714e-11 1.00000000e+00]\n"
     ]
    }
   ],
   "source": [
    "# Create two 1D arrays\n",
    "arr1 = np.array([10, 15, 20, 25])\n",
    "arr2 = np.array([3, 4, 0, 6])  # Note: 0 included to handle division by zero\n",
    "\n",
    "# To avoid division by zero, replace zeros with a small constant\n",
    "safe_divisor = arr2 + 1e-10\n",
    "\n",
    "# np.mod() vs % operator\n",
    "mod_result_ufunc = np.mod(arr1, safe_divisor)\n",
    "mod_result_operator = arr1 % safe_divisor\n",
    "\n",
    "print(\"Modulus using np.mod():\", mod_result_ufunc)\n",
    "print(\"Modulus using % operator:\", mod_result_operator)"
   ]
  },
  {
   "cell_type": "code",
   "execution_count": 14,
   "id": "037ce71d",
   "metadata": {},
   "outputs": [
    {
     "name": "stdout",
     "output_type": "stream",
     "text": [
      "Exponential of each element (e^x): [ 1.          2.71828183  7.3890561  20.08553692]\n",
      "Square root of each element: [0. 2. 3. 4.]\n"
     ]
    }
   ],
   "source": [
    "# 8. np.exp() - Exponential function\n",
    "arr_exp = np.array([0, 1, 2, 3])\n",
    "exp_result = np.exp(arr_exp)\n",
    "print(\"Exponential of each element (e^x):\", exp_result)\n",
    "\n",
    "# 9. np.sqrt() - Square root function\n",
    "# Ensure non-negative values\n",
    "arr_sqrt = np.array([0, 4, 9, 16])\n",
    "sqrt_result = np.sqrt(arr_sqrt)\n",
    "print(\"Square root of each element:\", sqrt_result)\n"
   ]
  },
  {
   "cell_type": "code",
   "execution_count": 15,
   "id": "380f4d62",
   "metadata": {},
   "outputs": [
    {
     "name": "stdout",
     "output_type": "stream",
     "text": [
      "Natural logarithm (ln) of each element: [0.         0.99989632 1.99999241 2.99573227]\n",
      "Base-10 logarithm of each element: [0. 1. 2. 3.]\n"
     ]
    }
   ],
   "source": [
    "# 10. np.log() - Natural logarithm\n",
    "arr_log = np.array([1, 2.718, 7.389, 20])  # all positive values\n",
    "log_result = np.log(arr_log)\n",
    "print(\"Natural logarithm (ln) of each element:\", log_result)\n",
    "\n",
    "# 11. np.log10() - Base-10 logarithm\n",
    "arr_log10 = np.array([1, 10, 100, 1000])  # all positive values\n",
    "log10_result = np.log10(arr_log10)\n",
    "print(\"Base-10 logarithm of each element:\", log10_result)\n"
   ]
  },
  {
   "cell_type": "code",
   "execution_count": 16,
   "id": "8b594018",
   "metadata": {},
   "outputs": [
    {
     "name": "stdout",
     "output_type": "stream",
     "text": [
      "Angles (radians): [0.         0.52359878 0.78539816 1.04719755 1.57079633]\n",
      "Sine values: [0.         0.5        0.70710678 0.8660254  1.        ]\n",
      "Cosine values: [1.00000000e+00 8.66025404e-01 7.07106781e-01 5.00000000e-01\n",
      " 6.12323400e-17]\n",
      "Tangent values: [0.00000000e+00 5.77350269e-01 1.00000000e+00 1.73205081e+00\n",
      " 1.63312394e+16]\n"
     ]
    }
   ],
   "source": [
    "# 12 Create a 1D array of angles in radians\n",
    "angles = np.array([0, np.pi/6, np.pi/4, np.pi/3, np.pi/2])\n",
    "\n",
    "# Compute trigonometric values\n",
    "sin_values = np.sin(angles)\n",
    "cos_values = np.cos(angles)\n",
    "tan_values = np.tan(angles)\n",
    "\n",
    "# Print results\n",
    "print(\"Angles (radians):\", angles)\n",
    "print(\"Sine values:\", sin_values)\n",
    "print(\"Cosine values:\", cos_values)\n",
    "print(\"Tangent values:\", tan_values)\n"
   ]
  },
  {
   "cell_type": "code",
   "execution_count": 17,
   "id": "3a2b7414",
   "metadata": {},
   "outputs": [
    {
     "name": "stdout",
     "output_type": "stream",
     "text": [
      "2D Array:\n",
      " [[ 3 19  3 17]\n",
      " [10  2 15  7]\n",
      " [18 13  5 19]]\n",
      "\n",
      "Sum of all elements: 131\n",
      "Mean value: 10.916666666666666\n",
      "Minimum value in each column: [3 2 3 7]\n",
      "Maximum value in each row: [19 15 19]\n"
     ]
    }
   ],
   "source": [
    "#13 Create a 2D array of random integers between 1 and 20, shape (3, 4)\n",
    "arr = np.random.randint(1, 21, size=(3, 4))\n",
    "print(\"2D Array:\\n\", arr)\n",
    "\n",
    "# 1. Sum of all elements\n",
    "total_sum = np.sum(arr)\n",
    "print(\"\\nSum of all elements:\", total_sum)\n",
    "\n",
    "# 2. Mean value of the array\n",
    "mean_value = np.mean(arr)\n",
    "print(\"Mean value:\", mean_value)\n",
    "\n",
    "# 3. Minimum value in each column\n",
    "min_columns = np.min(arr, axis=0)\n",
    "print(\"Minimum value in each column:\", min_columns)\n",
    "\n",
    "# 4. Maximum value in each row\n",
    "max_rows = np.max(arr, axis=1)\n",
    "print(\"Maximum value in each row:\", max_rows)\n"
   ]
  }
 ],
 "metadata": {
  "kernelspec": {
   "display_name": "Python 3",
   "language": "python",
   "name": "python3"
  },
  "language_info": {
   "codemirror_mode": {
    "name": "ipython",
    "version": 3
   },
   "file_extension": ".py",
   "mimetype": "text/x-python",
   "name": "python",
   "nbconvert_exporter": "python",
   "pygments_lexer": "ipython3",
   "version": "3.13.5"
  }
 },
 "nbformat": 4,
 "nbformat_minor": 5
}
